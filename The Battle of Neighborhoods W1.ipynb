{
    "cells": [
        {
            "cell_type": "markdown",
            "metadata": {},
            "source": "<h1 style=\"text-align: center\">Recommending a Business at a particular Tourism Site</h1>"
        },
        {
            "cell_type": "markdown",
            "metadata": {},
            "source": "## Introduction"
        },
        {
            "cell_type": "markdown",
            "metadata": {},
            "source": "Tourism has always been a thriving sector across the world. No matter which country you are living in, you can always come across a group of people, big or small, who always like to visit attractions. I am a big fan of adventure, and I acknowledge this fact as to how tourism plays a salient role for a traveler/explorer. Tourism is not only an important aspect of a country\u2019s economy but also for its global standing.\n\n###### How come Tourism plays a pivotal role to any country?  \nThe tourism industry is important for the benefits it brings and due to its role as a commercial activity that creates demand and growth for many more industries. Tourism not only contributes to more economic activities but also generates more employment, revenues, and play a significant role in development.\n- Tourism activity creates demand.\n- Tourism induces more consumption.\n- Tourism industry value chain meets & spreads demand across industries & boosts more economic activities.\n"
        },
        {
            "cell_type": "markdown",
            "metadata": {},
            "source": "## Business Problem"
        },
        {
            "cell_type": "markdown",
            "metadata": {},
            "source": "All the interests of tourism tend to reflect on the employment opportunity which it gives to the people of that country. The objective of this project is to analyze the tourist places of a given state in Vietnam, and try to recommend the best location where they can open a restaurant or lodging to make the best use of the opportunity.\n\nThe target audience for this project includes people who are interested in opening a restaurant, lodging, transport services, or any other similar businesses which fall within the tourism industry. This also recommends travelers' tourist venues to be visited in a given state of a country."
        },
        {
            "cell_type": "markdown",
            "metadata": {},
            "source": "## Data Anatomization"
        },
        {
            "cell_type": "markdown",
            "metadata": {},
            "source": "To tackle the above mentioned problem, we need to have the dataset that includes\n- All the districts of Ho Chi Minh, Ha Noi, Da Nang municipalities.\n- Latitude and longitudes of all the districts.\n\n###### Source\nThe major sources of data are derived from:\n- https://vi.wikipedia.org/wiki/Th%C3%A0nh_ph%E1%BB%91_H%E1%BB%93_Ch%C3%AD_Minh\n- https://en.wikipedia.org/wiki/Hanoi\n- https://en.wikipedia.org/wiki/Da_Nang\n\nThose links obtains all the districts of Ho Chi Minh, Ha Noi, Da Nang municipalities. We then use beautifulsoup4 package, a Python module that helps to scrape information from the web pages to extract all the tables from this Wikipedia page and convert it into a pandas dataframe. Then we use Python\u2019s geopy package to obtain the latitude and longitude of all the districts present in the dataframe.  \n\n###### Description of the data\nThe output shows the final dataset . The dataset consists of a single Dataframe with 9 columns containing state, districts, latitude and longitudes of the particular district etc. Other columns like code, headquarters, population, area and density have also been scraped from the website which can be used for further analysis.\n"
        },
        {
            "cell_type": "code",
            "execution_count": 5,
            "metadata": {},
            "outputs": [
                {
                    "data": {
                        "text/html": "<div>\n<style scoped>\n    .dataframe tbody tr th:only-of-type {\n        vertical-align: middle;\n    }\n\n    .dataframe tbody tr th {\n        vertical-align: top;\n    }\n\n    .dataframe thead th {\n        text-align: right;\n    }\n</style>\n<table border=\"1\" class=\"dataframe\">\n  <thead>\n    <tr style=\"text-align: right;\">\n      <th></th>\n      <th>Municipalities</th>\n      <th>District/Municipal City</th>\n      <th>Area (km2)</th>\n      <th>Population (person)</th>\n      <th>Wards</th>\n      <th>Latitude</th>\n      <th>Longitude</th>\n    </tr>\n  </thead>\n  <tbody>\n    <tr>\n      <th>0</th>\n      <td>Ho Chi Minh City</td>\n      <td>Thu Duc City</td>\n      <td>21156.0</td>\n      <td>1.013.795</td>\n      <td>34 wards</td>\n      <td>10.829830</td>\n      <td>106.761790</td>\n    </tr>\n    <tr>\n      <th>1</th>\n      <td>Ho Chi Minh City</td>\n      <td>District 1</td>\n      <td>772.0</td>\n      <td>142.625</td>\n      <td>10 wards</td>\n      <td>10.774845</td>\n      <td>106.699350</td>\n    </tr>\n    <tr>\n      <th>2</th>\n      <td>Ho Chi Minh City</td>\n      <td>District 3</td>\n      <td>492.0</td>\n      <td>190.375</td>\n      <td>12 wards</td>\n      <td>10.771551</td>\n      <td>106.698380</td>\n    </tr>\n    <tr>\n      <th>3</th>\n      <td>Ho Chi Minh City</td>\n      <td>District 4</td>\n      <td>418.0</td>\n      <td>175.329</td>\n      <td>13 wards</td>\n      <td>10.759243</td>\n      <td>106.704890</td>\n    </tr>\n    <tr>\n      <th>4</th>\n      <td>Ho Chi Minh City</td>\n      <td>District 5</td>\n      <td>427.0</td>\n      <td>159.073</td>\n      <td>14 wards</td>\n      <td>10.756129</td>\n      <td>106.670375</td>\n    </tr>\n  </tbody>\n</table>\n</div>",
                        "text/plain": "     Municipalities District/Municipal City  Area (km2) Population (person)  \\\n0  Ho Chi Minh City            Thu Duc City     21156.0           1.013.795   \n1  Ho Chi Minh City              District 1       772.0             142.625   \n2  Ho Chi Minh City              District 3       492.0             190.375   \n3  Ho Chi Minh City              District 4       418.0             175.329   \n4  Ho Chi Minh City              District 5       427.0             159.073   \n\n      Wards   Latitude   Longitude  \n0  34 wards  10.829830  106.761790  \n1  10 wards  10.774845  106.699350  \n2  12 wards  10.771551  106.698380  \n3  13 wards  10.759243  106.704890  \n4  14 wards  10.756129  106.670375  "
                    },
                    "execution_count": 5,
                    "metadata": {},
                    "output_type": "execute_result"
                }
            ],
            "source": "# The code was removed by Watson Studio for sharing."
        },
        {
            "cell_type": "code",
            "execution_count": null,
            "metadata": {},
            "outputs": [],
            "source": ""
        }
    ],
    "metadata": {
        "kernelspec": {
            "display_name": "Python 3.7",
            "language": "python",
            "name": "python3"
        },
        "language_info": {
            "codemirror_mode": {
                "name": "ipython",
                "version": 3
            },
            "file_extension": ".py",
            "mimetype": "text/x-python",
            "name": "python",
            "nbconvert_exporter": "python",
            "pygments_lexer": "ipython3",
            "version": "3.7.10"
        }
    },
    "nbformat": 4,
    "nbformat_minor": 4
}