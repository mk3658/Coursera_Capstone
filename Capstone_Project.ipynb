{
    "cells": [
        {
            "cell_type": "markdown",
            "metadata": {
                "collapsed": true
            },
            "source": "<h2><center>APPLIED DATA SCIENCE CAPSTONE</center></h2>"
        },
        {
            "cell_type": "markdown",
            "metadata": {},
            "source": "<h3 style=\"color: blue\">1. The scenario of the capstone project </h3>"
        },
        {
            "cell_type": "markdown",
            "metadata": {},
            "source": "Say this is you, and you live on the West side of the City of Toronto in Canada. \n\nYou love your neighborhood mainly because of all the great amenities and other types of venues that exist in the neighborhood. Such as gourmet fast food joints, pharmacies, parks, grad schools,\nand so on.\n\nNow say you receive a job offer from a great company on the other side of the city with great career prospects. However, given the far distance from your current place, you unfortunately must move if you decide to accept the offer.\n\nWouldn't it be great if you're able to determine neighborhoods on the other side of the city?\n\nThere are exactly the same as your current neighborhood, and if not, perhaps similar neighborhoods that are at least closer to your new job. "
        },
        {
            "cell_type": "markdown",
            "metadata": {},
            "source": "<h3 style=\"color: blue\">2. What should you do for resolving that scenario? </h3>"
        },
        {
            "cell_type": "markdown",
            "metadata": {},
            "source": "You can choose to compare different neighborhoods in terms of a service. Search for potential explanation of why a neighborhood is popular. The cause of complaints in another neighborhood, or anything else related to neighborhoods. Hence the name of the capstone project will be the battle of the neighborhoods. "
        },
        {
            "cell_type": "code",
            "execution_count": 3,
            "metadata": {},
            "outputs": [
                {
                    "name": "stdout",
                    "output_type": "stream",
                    "text": "Hello Capstone Project Course!\n"
                }
            ],
            "source": "import pandas as pd\nimport numpy as np\n\nprint(\"Hello Capstone Project Course!\")"
        },
        {
            "cell_type": "code",
            "execution_count": null,
            "metadata": {},
            "outputs": [],
            "source": ""
        }
    ],
    "metadata": {
        "kernelspec": {
            "display_name": "Python 3.7",
            "language": "python",
            "name": "python3"
        },
        "language_info": {
            "codemirror_mode": {
                "name": "ipython",
                "version": 3
            },
            "file_extension": ".py",
            "mimetype": "text/x-python",
            "name": "python",
            "nbconvert_exporter": "python",
            "pygments_lexer": "ipython3",
            "version": "3.7.10"
        }
    },
    "nbformat": 4,
    "nbformat_minor": 1
}